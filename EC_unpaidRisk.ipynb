{
  "nbformat": 4,
  "nbformat_minor": 0,
  "metadata": {
    "colab": {
      "name": "EC_unpaidRisk.ipynb",
      "provenance": [],
      "authorship_tag": "ABX9TyPc70nhKvIPGYYUiM1nxMPV"
    },
    "kernelspec": {
      "name": "python3",
      "display_name": "Python 3"
    }
  },
  "cells": [
    {
      "cell_type": "code",
      "metadata": {
        "id": "yHc8CkgoktKr",
        "outputId": "51299ac8-07a5-49fe-9317-0eb3e681fdbd",
        "colab": {
          "base_uri": "https://localhost:8080/"
        }
      },
      "source": [
        "# 必要なライブラリを読み込む\n",
        "from google.colab import drive \n",
        "\n",
        "# Google ドライブをマウントする\n",
        "drive.mount('/content/drive')"
      ],
      "execution_count": 1,
      "outputs": [
        {
          "output_type": "stream",
          "text": [
            "Mounted at /content/drive\n"
          ],
          "name": "stdout"
        }
      ]
    },
    {
      "cell_type": "code",
      "metadata": {
        "id": "VgBoNpOplCYi"
      },
      "source": [
        "# 必要なライブラリを読み込む\n",
        "\n",
        "# データフレームが扱えるよう、pandas をインポート\n",
        "import pandas as pd\n",
        "\n",
        "# グラフ描写のライブラリ\n",
        "import matplotlib.pyplot as plt\n",
        "import seaborn as sns\n",
        "\n",
        "# numpy のデータが扱えるよう、numpy をインポート\n",
        "import numpy as np"
      ],
      "execution_count": 2,
      "outputs": []
    },
    {
      "cell_type": "code",
      "metadata": {
        "id": "A7O6FTOFmg5O",
        "outputId": "2b0c0a96-42b4-4a1a-931d-c02a1b41c609",
        "colab": {
          "base_uri": "https://localhost:8080/",
          "height": 204
        }
      },
      "source": [
        "transaction = pd.read_csv(\"drive/My Drive/Learn Datascience/DATA/Transaction.csv\")\n",
        "transaction.head()"
      ],
      "execution_count": 19,
      "outputs": [
        {
          "output_type": "execute_result",
          "data": {
            "text/html": [
              "<div>\n",
              "<style scoped>\n",
              "    .dataframe tbody tr th:only-of-type {\n",
              "        vertical-align: middle;\n",
              "    }\n",
              "\n",
              "    .dataframe tbody tr th {\n",
              "        vertical-align: top;\n",
              "    }\n",
              "\n",
              "    .dataframe thead th {\n",
              "        text-align: right;\n",
              "    }\n",
              "</style>\n",
              "<table border=\"1\" class=\"dataframe\">\n",
              "  <thead>\n",
              "    <tr style=\"text-align: right;\">\n",
              "      <th></th>\n",
              "      <th>Transact-ID</th>\n",
              "      <th>UserID</th>\n",
              "      <th>MainItem</th>\n",
              "      <th>Price</th>\n",
              "    </tr>\n",
              "  </thead>\n",
              "  <tbody>\n",
              "    <tr>\n",
              "      <th>0</th>\n",
              "      <td>T00000001</td>\n",
              "      <td>U002136</td>\n",
              "      <td>FASHION-L</td>\n",
              "      <td>14420</td>\n",
              "    </tr>\n",
              "    <tr>\n",
              "      <th>1</th>\n",
              "      <td>T00000002</td>\n",
              "      <td>U001926</td>\n",
              "      <td>GOODS-L</td>\n",
              "      <td>19490</td>\n",
              "    </tr>\n",
              "    <tr>\n",
              "      <th>2</th>\n",
              "      <td>T00000003</td>\n",
              "      <td>U008955</td>\n",
              "      <td>FASHION-L</td>\n",
              "      <td>1900</td>\n",
              "    </tr>\n",
              "    <tr>\n",
              "      <th>3</th>\n",
              "      <td>T00000004</td>\n",
              "      <td>U009751</td>\n",
              "      <td>GOODS-L</td>\n",
              "      <td>1000</td>\n",
              "    </tr>\n",
              "    <tr>\n",
              "      <th>4</th>\n",
              "      <td>T00000005</td>\n",
              "      <td>U000533</td>\n",
              "      <td>FASHION-L</td>\n",
              "      <td>3190</td>\n",
              "    </tr>\n",
              "  </tbody>\n",
              "</table>\n",
              "</div>"
            ],
            "text/plain": [
              "  Transact-ID   UserID   MainItem  Price\n",
              "0   T00000001  U002136  FASHION-L  14420\n",
              "1   T00000002  U001926    GOODS-L  19490\n",
              "2   T00000003  U008955  FASHION-L   1900\n",
              "3   T00000004  U009751    GOODS-L   1000\n",
              "4   T00000005  U000533  FASHION-L   3190"
            ]
          },
          "metadata": {
            "tags": []
          },
          "execution_count": 19
        }
      ]
    },
    {
      "cell_type": "code",
      "metadata": {
        "id": "JmUH5ETumnP4",
        "outputId": "2e144649-b594-4930-857b-ad87638336c8",
        "colab": {
          "base_uri": "https://localhost:8080/",
          "height": 204
        }
      },
      "source": [
        "unpaid = pd.read_csv(\"drive/My Drive/Learn Datascience/DATA/Unpaid.csv\")\n",
        "unpaid[\"Unpaid\"] = 1\n",
        "unpaid.head()"
      ],
      "execution_count": 16,
      "outputs": [
        {
          "output_type": "execute_result",
          "data": {
            "text/html": [
              "<div>\n",
              "<style scoped>\n",
              "    .dataframe tbody tr th:only-of-type {\n",
              "        vertical-align: middle;\n",
              "    }\n",
              "\n",
              "    .dataframe tbody tr th {\n",
              "        vertical-align: top;\n",
              "    }\n",
              "\n",
              "    .dataframe thead th {\n",
              "        text-align: right;\n",
              "    }\n",
              "</style>\n",
              "<table border=\"1\" class=\"dataframe\">\n",
              "  <thead>\n",
              "    <tr style=\"text-align: right;\">\n",
              "      <th></th>\n",
              "      <th>Transact-ID</th>\n",
              "      <th>Unpaid</th>\n",
              "    </tr>\n",
              "  </thead>\n",
              "  <tbody>\n",
              "    <tr>\n",
              "      <th>0</th>\n",
              "      <td>T00000223</td>\n",
              "      <td>1</td>\n",
              "    </tr>\n",
              "    <tr>\n",
              "      <th>1</th>\n",
              "      <td>T00000281</td>\n",
              "      <td>1</td>\n",
              "    </tr>\n",
              "    <tr>\n",
              "      <th>2</th>\n",
              "      <td>T00000475</td>\n",
              "      <td>1</td>\n",
              "    </tr>\n",
              "    <tr>\n",
              "      <th>3</th>\n",
              "      <td>T00000952</td>\n",
              "      <td>1</td>\n",
              "    </tr>\n",
              "    <tr>\n",
              "      <th>4</th>\n",
              "      <td>T00001506</td>\n",
              "      <td>1</td>\n",
              "    </tr>\n",
              "  </tbody>\n",
              "</table>\n",
              "</div>"
            ],
            "text/plain": [
              "  Transact-ID  Unpaid\n",
              "0   T00000223       1\n",
              "1   T00000281       1\n",
              "2   T00000475       1\n",
              "3   T00000952       1\n",
              "4   T00001506       1"
            ]
          },
          "metadata": {
            "tags": []
          },
          "execution_count": 16
        }
      ]
    },
    {
      "cell_type": "code",
      "metadata": {
        "id": "KiVBCRs0m4EG",
        "outputId": "3e5e4970-4b59-43ed-f6d5-70c34796a3a6",
        "colab": {
          "base_uri": "https://localhost:8080/",
          "height": 204
        }
      },
      "source": [
        "user = pd.read_csv(\"drive/My Drive/Learn Datascience/DATA/User.csv\")\n",
        "user.head()"
      ],
      "execution_count": 17,
      "outputs": [
        {
          "output_type": "execute_result",
          "data": {
            "text/html": [
              "<div>\n",
              "<style scoped>\n",
              "    .dataframe tbody tr th:only-of-type {\n",
              "        vertical-align: middle;\n",
              "    }\n",
              "\n",
              "    .dataframe tbody tr th {\n",
              "        vertical-align: top;\n",
              "    }\n",
              "\n",
              "    .dataframe thead th {\n",
              "        text-align: right;\n",
              "    }\n",
              "</style>\n",
              "<table border=\"1\" class=\"dataframe\">\n",
              "  <thead>\n",
              "    <tr style=\"text-align: right;\">\n",
              "      <th></th>\n",
              "      <th>UserID</th>\n",
              "      <th>Tel</th>\n",
              "      <th>Address</th>\n",
              "    </tr>\n",
              "  </thead>\n",
              "  <tbody>\n",
              "    <tr>\n",
              "      <th>0</th>\n",
              "      <td>U000001</td>\n",
              "      <td>080-xxxx-xxxx</td>\n",
              "      <td>5</td>\n",
              "    </tr>\n",
              "    <tr>\n",
              "      <th>1</th>\n",
              "      <td>U000002</td>\n",
              "      <td>080-xxxx-xxxx</td>\n",
              "      <td>32</td>\n",
              "    </tr>\n",
              "    <tr>\n",
              "      <th>2</th>\n",
              "      <td>U000003</td>\n",
              "      <td>080-xxxx-xxxx</td>\n",
              "      <td>21</td>\n",
              "    </tr>\n",
              "    <tr>\n",
              "      <th>3</th>\n",
              "      <td>U000004</td>\n",
              "      <td>080-xxxx-xxxx</td>\n",
              "      <td>25</td>\n",
              "    </tr>\n",
              "    <tr>\n",
              "      <th>4</th>\n",
              "      <td>U000005</td>\n",
              "      <td>090-xxxx-xxxx</td>\n",
              "      <td>36</td>\n",
              "    </tr>\n",
              "  </tbody>\n",
              "</table>\n",
              "</div>"
            ],
            "text/plain": [
              "    UserID            Tel  Address\n",
              "0  U000001  080-xxxx-xxxx        5\n",
              "1  U000002  080-xxxx-xxxx       32\n",
              "2  U000003  080-xxxx-xxxx       21\n",
              "3  U000004  080-xxxx-xxxx       25\n",
              "4  U000005  090-xxxx-xxxx       36"
            ]
          },
          "metadata": {
            "tags": []
          },
          "execution_count": 17
        }
      ]
    },
    {
      "cell_type": "code",
      "metadata": {
        "id": "5mQVW2m4rx8V",
        "outputId": "426f4373-f1aa-4625-c0f6-ebbc815621fd",
        "colab": {
          "base_uri": "https://localhost:8080/",
          "height": 296
        }
      },
      "source": [
        "# 棒グラフ（件数集計）を描画\n",
        "sns.countplot( x=user['Address'] , palette='Set2' )"
      ],
      "execution_count": 21,
      "outputs": [
        {
          "output_type": "execute_result",
          "data": {
            "text/plain": [
              "<matplotlib.axes._subplots.AxesSubplot at 0x7ff19e68ae48>"
            ]
          },
          "metadata": {
            "tags": []
          },
          "execution_count": 21
        },
        {
          "output_type": "display_data",
          "data": {
            "image/png": "[encoded data removed]",
            "text/plain": [
              "<Figure size 432x288 with 1 Axes>"
            ]
          },
          "metadata": {
            "tags": [],
            "needs_background": "light"
          }
        }
      ]
    },
    {
      "cell_type": "code",
      "metadata": {
        "id": "2RhLI7NenBNF",
        "outputId": "7c6b2c21-5380-4da4-adc0-48e6b7fa6439",
        "colab": {
          "base_uri": "https://localhost:8080/",
          "height": 204
        }
      },
      "source": [
        "transaction = pd.merge(transaction , user, left_on = \"UserID\" , right_on = \"UserID\"  , how = \"left\" )\n",
        "transaction = pd.merge(transaction , unpaid, left_on = \"Transact-ID\" , right_on = \"Transact-ID\" , how = \"left\" )\n",
        "transaction[\"Unpaid\"] = transaction[\"Unpaid\"].fillna(0).astype('Int64')\n",
        "transaction.head()"
      ],
      "execution_count": 20,
      "outputs": [
        {
          "output_type": "execute_result",
          "data": {
            "text/html": [
              "<div>\n",
              "<style scoped>\n",
              "    .dataframe tbody tr th:only-of-type {\n",
              "        vertical-align: middle;\n",
              "    }\n",
              "\n",
              "    .dataframe tbody tr th {\n",
              "        vertical-align: top;\n",
              "    }\n",
              "\n",
              "    .dataframe thead th {\n",
              "        text-align: right;\n",
              "    }\n",
              "</style>\n",
              "<table border=\"1\" class=\"dataframe\">\n",
              "  <thead>\n",
              "    <tr style=\"text-align: right;\">\n",
              "      <th></th>\n",
              "      <th>Transact-ID</th>\n",
              "      <th>UserID</th>\n",
              "      <th>MainItem</th>\n",
              "      <th>Price</th>\n",
              "      <th>Tel</th>\n",
              "      <th>Address</th>\n",
              "      <th>Unpaid</th>\n",
              "    </tr>\n",
              "  </thead>\n",
              "  <tbody>\n",
              "    <tr>\n",
              "      <th>0</th>\n",
              "      <td>T00000001</td>\n",
              "      <td>U002136</td>\n",
              "      <td>FASHION-L</td>\n",
              "      <td>14420</td>\n",
              "      <td>080-xxxx-xxxx</td>\n",
              "      <td>6</td>\n",
              "      <td>0</td>\n",
              "    </tr>\n",
              "    <tr>\n",
              "      <th>1</th>\n",
              "      <td>T00000002</td>\n",
              "      <td>U001926</td>\n",
              "      <td>GOODS-L</td>\n",
              "      <td>19490</td>\n",
              "      <td>080-xxxx-xxxx</td>\n",
              "      <td>24</td>\n",
              "      <td>0</td>\n",
              "    </tr>\n",
              "    <tr>\n",
              "      <th>2</th>\n",
              "      <td>T00000003</td>\n",
              "      <td>U008955</td>\n",
              "      <td>FASHION-L</td>\n",
              "      <td>1900</td>\n",
              "      <td>080-xxxx-xxxx</td>\n",
              "      <td>26</td>\n",
              "      <td>0</td>\n",
              "    </tr>\n",
              "    <tr>\n",
              "      <th>3</th>\n",
              "      <td>T00000004</td>\n",
              "      <td>U009751</td>\n",
              "      <td>GOODS-L</td>\n",
              "      <td>1000</td>\n",
              "      <td>090-xxxx-xxxx</td>\n",
              "      <td>6</td>\n",
              "      <td>0</td>\n",
              "    </tr>\n",
              "    <tr>\n",
              "      <th>4</th>\n",
              "      <td>T00000005</td>\n",
              "      <td>U000533</td>\n",
              "      <td>FASHION-L</td>\n",
              "      <td>3190</td>\n",
              "      <td>080-xxxx-xxxx</td>\n",
              "      <td>26</td>\n",
              "      <td>0</td>\n",
              "    </tr>\n",
              "  </tbody>\n",
              "</table>\n",
              "</div>"
            ],
            "text/plain": [
              "  Transact-ID   UserID   MainItem  Price            Tel  Address  Unpaid\n",
              "0   T00000001  U002136  FASHION-L  14420  080-xxxx-xxxx        6       0\n",
              "1   T00000002  U001926    GOODS-L  19490  080-xxxx-xxxx       24       0\n",
              "2   T00000003  U008955  FASHION-L   1900  080-xxxx-xxxx       26       0\n",
              "3   T00000004  U009751    GOODS-L   1000  090-xxxx-xxxx        6       0\n",
              "4   T00000005  U000533  FASHION-L   3190  080-xxxx-xxxx       26       0"
            ]
          },
          "metadata": {
            "tags": []
          },
          "execution_count": 20
        }
      ]
    },
    {
      "cell_type": "code",
      "metadata": {
        "id": "1R11qns5qBmw",
        "outputId": "bdde2e43-006e-405f-8b40-1d1b48b92b80",
        "colab": {
          "base_uri": "https://localhost:8080/",
          "height": 296
        }
      },
      "source": [
        "# 棒グラフ（件数集計）を描画\n",
        "sns.countplot( x=transaction['Unpaid'] , palette='Set2' )"
      ],
      "execution_count": 22,
      "outputs": [
        {
          "output_type": "execute_result",
          "data": {
            "text/plain": [
              "<matplotlib.axes._subplots.AxesSubplot at 0x7ff19e7033c8>"
            ]
          },
          "metadata": {
            "tags": []
          },
          "execution_count": 22
        },
        {
          "output_type": "display_data",
          "data": {
            "image/png": "[encoded data removed]",
            "text/plain": [
              "<Figure size 432x288 with 1 Axes>"
            ]
          },
          "metadata": {
            "tags": [],
            "needs_background": "light"
          }
        }
      ]
    },
    {
      "cell_type": "code",
      "metadata": {
        "id": "im0YLV0oshZ5",
        "outputId": "5cb1af7c-fdb6-4ed1-c740-2c8761d37b60",
        "colab": {
          "base_uri": "https://localhost:8080/",
          "height": 204
        }
      },
      "source": [
        "user_unpaid = pd.DataFrame(transaction.groupby(['UserID', 'Unpaid']).count()).reset_index()\n",
        "user_unpaid.head()"
      ],
      "execution_count": 25,
      "outputs": [
        {
          "output_type": "execute_result",
          "data": {
            "text/html": [
              "<div>\n",
              "<style scoped>\n",
              "    .dataframe tbody tr th:only-of-type {\n",
              "        vertical-align: middle;\n",
              "    }\n",
              "\n",
              "    .dataframe tbody tr th {\n",
              "        vertical-align: top;\n",
              "    }\n",
              "\n",
              "    .dataframe thead th {\n",
              "        text-align: right;\n",
              "    }\n",
              "</style>\n",
              "<table border=\"1\" class=\"dataframe\">\n",
              "  <thead>\n",
              "    <tr style=\"text-align: right;\">\n",
              "      <th></th>\n",
              "      <th>UserID</th>\n",
              "      <th>Unpaid</th>\n",
              "      <th>Transact-ID</th>\n",
              "      <th>MainItem</th>\n",
              "      <th>Price</th>\n",
              "      <th>Tel</th>\n",
              "      <th>Address</th>\n",
              "    </tr>\n",
              "  </thead>\n",
              "  <tbody>\n",
              "    <tr>\n",
              "      <th>0</th>\n",
              "      <td>U000001</td>\n",
              "      <td>0</td>\n",
              "      <td>2</td>\n",
              "      <td>2</td>\n",
              "      <td>2</td>\n",
              "      <td>2</td>\n",
              "      <td>2</td>\n",
              "    </tr>\n",
              "    <tr>\n",
              "      <th>1</th>\n",
              "      <td>U000002</td>\n",
              "      <td>0</td>\n",
              "      <td>2</td>\n",
              "      <td>2</td>\n",
              "      <td>2</td>\n",
              "      <td>2</td>\n",
              "      <td>2</td>\n",
              "    </tr>\n",
              "    <tr>\n",
              "      <th>2</th>\n",
              "      <td>U000003</td>\n",
              "      <td>0</td>\n",
              "      <td>2</td>\n",
              "      <td>2</td>\n",
              "      <td>2</td>\n",
              "      <td>2</td>\n",
              "      <td>2</td>\n",
              "    </tr>\n",
              "    <tr>\n",
              "      <th>3</th>\n",
              "      <td>U000004</td>\n",
              "      <td>0</td>\n",
              "      <td>1</td>\n",
              "      <td>1</td>\n",
              "      <td>1</td>\n",
              "      <td>1</td>\n",
              "      <td>1</td>\n",
              "    </tr>\n",
              "    <tr>\n",
              "      <th>4</th>\n",
              "      <td>U000006</td>\n",
              "      <td>0</td>\n",
              "      <td>3</td>\n",
              "      <td>3</td>\n",
              "      <td>3</td>\n",
              "      <td>3</td>\n",
              "      <td>3</td>\n",
              "    </tr>\n",
              "  </tbody>\n",
              "</table>\n",
              "</div>"
            ],
            "text/plain": [
              "    UserID  Unpaid  Transact-ID  MainItem  Price  Tel  Address\n",
              "0  U000001       0            2         2      2    2        2\n",
              "1  U000002       0            2         2      2    2        2\n",
              "2  U000003       0            2         2      2    2        2\n",
              "3  U000004       0            1         1      1    1        1\n",
              "4  U000006       0            3         3      3    3        3"
            ]
          },
          "metadata": {
            "tags": []
          },
          "execution_count": 25
        }
      ]
    },
    {
      "cell_type": "code",
      "metadata": {
        "id": "LwjUVh1btjoX"
      },
      "source": [
        ""
      ],
      "execution_count": null,
      "outputs": []
    }
  ]
}